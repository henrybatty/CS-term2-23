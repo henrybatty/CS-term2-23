{
  "nbformat": 4,
  "nbformat_minor": 0,
  "metadata": {
    "colab": {
      "provenance": [],
      "include_colab_link": true
    },
    "kernelspec": {
      "name": "python3",
      "display_name": "Python 3"
    },
    "language_info": {
      "name": "python"
    }
  },
  "cells": [
    {
      "cell_type": "markdown",
      "metadata": {
        "id": "view-in-github",
        "colab_type": "text"
      },
      "source": [
        "<a href=\"https://colab.research.google.com/github/henrybatty/CS-term2-23/blob/main/Henry_Batty_Iterating_across_lists.ipynb\" target=\"_parent\"><img src=\"https://colab.research.google.com/assets/colab-badge.svg\" alt=\"Open In Colab\"/></a>"
      ]
    },
    {
      "cell_type": "markdown",
      "source": [
        "***For loops*** are used to ***iterate*** across arrays. Iteration means doing something repeatedly. Iterating across an array means to check every item in the array and perform the same action for all of them.\n",
        "\n",
        "\n",
        "Q1: Here is a for loop which iterates across an array of strings, printing each one. Except actually it doesn't quite cover the whole array. Can you fix the code so that it goes all the way to the end?\n",
        "\n",
        "Note: When you write range(0, 5) it starts from index 0 and goes up to but NOT including index 5.\n"
      ],
      "metadata": {
        "id": "CXIFs4K5zqk3"
      }
    },
    {
      "cell_type": "code",
      "execution_count": 11,
      "metadata": {
        "colab": {
          "base_uri": "https://localhost:8080/"
        },
        "id": "KJcCVSQNzn4J",
        "outputId": "00c3f4e4-893d-4d11-f5a3-3b595143191b"
      },
      "outputs": [
        {
          "output_type": "stream",
          "name": "stdout",
          "text": [
            "cat\n",
            "dog\n",
            "fish\n",
            "pigeon\n",
            "parrot\n",
            "pony\n",
            "hamster\n",
            "lizard\n"
          ]
        }
      ],
      "source": [
        "# Q1\n",
        "animals = [\"cat\", \"dog\", \"fish\", \"pigeon\", \"parrot\", \"pony\", \"hamster\", \"lizard\"]\n",
        "for i in range (0, 8):\n",
        "  print(words[i])\n"
      ]
    },
    {
      "cell_type": "markdown",
      "source": [
        "*Q2*: Create a list which contains ten integers. Write a for loop which iterates across the list, printing each number on a separate line."
      ],
      "metadata": {
        "id": "Izbjfbsp0k_x"
      }
    },
    {
      "cell_type": "code",
      "source": [
        "# Q2\n",
        "\n",
        "numbers = [0, 1, 2 ,3 ,4 ,5 ,6 ,7 ,8, 9]\n",
        "\n",
        "for num in numbers:\n",
        "    print(num)\n"
      ],
      "metadata": {
        "id": "eh90iD-e0t6x",
        "colab": {
          "base_uri": "https://localhost:8080/"
        },
        "outputId": "9e2c99de-a132-4488-8c03-efdc274252d4"
      },
      "execution_count": 3,
      "outputs": [
        {
          "output_type": "stream",
          "name": "stdout",
          "text": [
            "0\n",
            "1\n",
            "2\n",
            "3\n",
            "4\n",
            "5\n",
            "6\n",
            "7\n",
            "8\n",
            "9\n"
          ]
        }
      ]
    },
    {
      "cell_type": "markdown",
      "source": [
        "Q3: The program below creates an empty list. Then it uses a for loop to let the user enter ten integers, which it appends to the list. Write another for loop which iterates across the list, printing out the NEXT number up from each item (on a separate line). For example, if the list contains 81, the program should print 82.\n",
        "\n",
        "Note: If you use range(10) with only one number in the bracket, it treats it as if you had written range(0, 10)."
      ],
      "metadata": {
        "id": "0c4TGuye0yuh"
      }
    },
    {
      "cell_type": "code",
      "source": [
        "# Q3\n",
        "\n",
        "numbers = []\n",
        "\n",
        "for i in range(10):\n",
        "    num = int(input(\"Enter an integer: \"))\n",
        "    numbers.append(num)\n",
        "\n",
        "for num in numbers:\n",
        "    next_num = num + 1\n",
        "    print(next_num)\n",
        "\n",
        "\n"
      ],
      "metadata": {
        "colab": {
          "base_uri": "https://localhost:8080/"
        },
        "id": "zeOEIpkY1GDh",
        "outputId": "7a7a870f-588b-4a7d-b379-cef5fc9298b6"
      },
      "execution_count": 4,
      "outputs": [
        {
          "output_type": "stream",
          "name": "stdout",
          "text": [
            "Enter an integer: 5\n",
            "Enter an integer: 3\n",
            "Enter an integer: 5\n",
            "Enter an integer: 3\n",
            "Enter an integer: 5\n",
            "Enter an integer: 3\n",
            "Enter an integer: 5\n",
            "Enter an integer: 3\n",
            "Enter an integer: 5\n",
            "Enter an integer: 3\n",
            "6\n",
            "4\n",
            "6\n",
            "4\n",
            "6\n",
            "4\n",
            "6\n",
            "4\n",
            "6\n",
            "4\n"
          ]
        }
      ]
    },
    {
      "cell_type": "markdown",
      "source": [
        "**Q4**: The range() function in Python can be used to iterate across only part of a list. For example, the progam below prints only the final three items in the list. Adapt the program to print just the items from position 3 up to (and including) position 6.\n",
        "\n",
        "Note: The positions in an array are usually labelled with positive numbers, starting at 0 for the first element. But they can also be labelled backwards with negative numbers starting from -1 for the last element."
      ],
      "metadata": {
        "id": "jRAPHwNQ1QdJ"
      }
    },
    {
      "cell_type": "code",
      "source": [
        "#Q4\n",
        "countries = [\"France\", \"Greece\", \"India\", \"Norway\", \"Brazil\", \"Oman\", \"New Zealand\", \"Canada\", \"Chile\", \"Tonga\"]\n",
        "for i in range(3, 7):\n",
        "    print(countries[i])"
      ],
      "metadata": {
        "colab": {
          "base_uri": "https://localhost:8080/"
        },
        "id": "_jL52GkA1hm6",
        "outputId": "964c11c7-2a2a-4eb8-bcd1-c694a53d7b25"
      },
      "execution_count": 5,
      "outputs": [
        {
          "output_type": "stream",
          "name": "stdout",
          "text": [
            "Norway\n",
            "Brazil\n",
            "Oman\n",
            "New Zealand\n"
          ]
        }
      ]
    },
    {
      "cell_type": "markdown",
      "source": [
        "Q5: This program uses a while loop to append numbers that the user enters to an array until the user enters 1000. Then it iterates through the array counting how many of the numbers were greater than 50. Finally it prints how many it found. But the program has errors... can you fix them?\n",
        "\n",
        "Note: len(myarray) finds out how many elements are in an array. This can be useful if you need to use a for loop to iterate across an array but you don't know how many elements there are."
      ],
      "metadata": {
        "id": "4EpOggi938S2"
      }
    },
    {
      "cell_type": "code",
      "source": [
        "# Q5\n",
        "\n",
        "numbers = [] # create an empty array\n",
        "new_num = int(input(\"please enter a number, or 1000 to stop\\n\")) # ask the user to enter a value\n",
        "\n",
        "while new_num != 1000: # so long as they don't enter 1000\n",
        "    numbers.append(new_num) # ... append that value to the array\n",
        "    new_num = int(input(\"next number: \")) # ... and ask for the next number\n",
        "\n",
        "count = 0 # a variable to store how many numbers we've found over 50\n",
        "for i in range(len(numbers)): # for each number that was entered\n",
        "    if numbers[i] > 50: # ... check if it was over 50\n",
        "        count += 1 # ... and, if so, add 1 to the count\n",
        "\n",
        "print(\"there were\", count, \"numbers greater than 50\")\n",
        "4"
      ],
      "metadata": {
        "colab": {
          "base_uri": "https://localhost:8080/"
        },
        "id": "YUQ-Nln74Pi-",
        "outputId": "1d4d7d05-3807-4653-e069-462bae93f0d2"
      },
      "execution_count": 7,
      "outputs": [
        {
          "output_type": "stream",
          "name": "stdout",
          "text": [
            "please enter a number, or 1000 to stop\n",
            "1\n",
            "next number: 2\n",
            "next number: 3\n",
            "next number: 4\n",
            "next number: 5\n",
            "next number: 5\n",
            "next number: 43\n",
            "next number: 423\n",
            "next number: 1000\n",
            "there were 1 numbers greater than 50\n"
          ]
        }
      ]
    },
    {
      "cell_type": "markdown",
      "source": [
        "Q6: Another feature of the range() function is that you can include a third parameter if you choose:\n",
        "*   The first one is the value to start at\n",
        "*   The second one is the value to stop at (or rather, before)\n",
        "*   The third one is the size of jumps to take between values\n",
        "\n",
        "e.g. range(1, 20, 3) would produce 1, 4, 7, 10, 13, 16, 19\n",
        "because it is starting at 1 and jumping in 3s until it reaches 20.\n",
        "\n",
        "e.g. range(40, 20, -6) would produce 40, 34, 28, 22 because it is starting at 40 and decreasing in 6s until it reaches 20.\n",
        "\n",
        "Can you write a loop which will iterate across this list, printing the first value and every other one after that?"
      ],
      "metadata": {
        "id": "u8lxvWDP5f6n"
      }
    },
    {
      "cell_type": "code",
      "source": [
        "#Q6\n",
        "countries = [\"France\", \"Greece\", \"India\", \"Norway\", \"Brazil\", \"Oman\", \"New Zealand\", \"Canada\", \"Chile\", \"Tonga\"]\n",
        "\n",
        "for i in range(0, len(countries), 2):\n",
        "  print(countries[i])"
      ],
      "metadata": {
        "colab": {
          "base_uri": "https://localhost:8080/"
        },
        "id": "t-oYppIV67Ya",
        "outputId": "b38096c8-2e28-423d-8f51-b499f9eb419c"
      },
      "execution_count": null,
      "outputs": [
        {
          "output_type": "stream",
          "name": "stdout",
          "text": [
            "France\n",
            "India\n",
            "Brazil\n",
            "New Zealand\n",
            "Chile\n"
          ]
        }
      ]
    },
    {
      "cell_type": "markdown",
      "source": [
        "Q7: When iterating across a list, you can look at the elements in the list to decide what action to take.\n",
        "\n",
        "This program prints the name of a country if it has a letter 'e' in it.\n",
        "Can you change this program so that it prints:\n",
        "\n",
        "\n",
        "*   The name of the country in capitals if it includes a letter 'i'\n",
        "*   or the name of the country backwards if it starts with a 'C' \n",
        "*   or the word \"space\" if it includes a space in the name\n",
        "*   or the word \"nope\" if none of the above\n"
      ],
      "metadata": {
        "id": "I7F35cz-7SXK"
      }
    },
    {
      "cell_type": "code",
      "source": [
        "#Q7\n",
        "#countries = [\"France\", \"Greece\", \"India\", \"Norway\", \"Brazil\", \"Oman\", \"New Zealand\", \"Canada\", \"Chile\", \"Tonga\"]\n",
        "\n",
        "for country in countries:\n",
        "    if \"i\" in country:\n",
        "        print(country.upper())\n",
        "    elif country.startswith(\"C\"):\n",
        "        print(country[::-1])\n",
        "    elif \" \" in country:\n",
        "        print(\"space\")\n",
        "    else:\n",
        "        print(\"nope\")"
      ],
      "metadata": {
        "id": "8fAbOLcB7dxZ",
        "colab": {
          "base_uri": "https://localhost:8080/"
        },
        "outputId": "74e1b693-9051-49b1-e7bf-14708a6f3b44"
      },
      "execution_count": 8,
      "outputs": [
        {
          "output_type": "stream",
          "name": "stdout",
          "text": [
            "nope\n",
            "nope\n",
            "INDIA\n",
            "nope\n",
            "BRAZIL\n",
            "nope\n",
            "space\n",
            "adanaC\n",
            "CHILE\n",
            "nope\n"
          ]
        }
      ]
    },
    {
      "cell_type": "markdown",
      "source": [
        "Q8: Sometimes it is the *positions *of the elements in the list that we want to know about. This program prints out the positions of the animals that start with the letter 'p'.\n",
        "\n",
        "Can you change this program so it prints out the positions of the animals whose names are more than four letters long, instead?"
      ],
      "metadata": {
        "id": "so4zislE8NMM"
      }
    },
    {
      "cell_type": "code",
      "source": [
        "#Q8\n",
        "animals = [\"cat\", \"dog\", \"fish\", \"pigeon\", \"parrot\", \"pony\", \"hamster\", \"lizard\"]\n",
        "for i in range(len(animals)):\n",
        "    if len(animals[i]) > 4:\n",
        "        print(\"The animal at position\", i, \"has a name longer than 4 letters\")"
      ],
      "metadata": {
        "colab": {
          "base_uri": "https://localhost:8080/"
        },
        "id": "qhXyrzUx8lUz",
        "outputId": "64ef8ae1-765d-4aee-e321-b7af16e60fc0"
      },
      "execution_count": 9,
      "outputs": [
        {
          "output_type": "stream",
          "name": "stdout",
          "text": [
            "The animal at position 3 has a name longer than 4 letters\n",
            "The animal at position 4 has a name longer than 4 letters\n",
            "The animal at position 6 has a name longer than 4 letters\n",
            "The animal at position 7 has a name longer than 4 letters\n"
          ]
        }
      ]
    },
    {
      "cell_type": "markdown",
      "source": [
        "Q9: There is another way to iterate across a list, if we don't need to know the positions of the elements in the list. This program prints out the *names* of all the pets. If you don't need to work with the position numbers, it can help your code to be easy to read.\n",
        "\n",
        "Can you change this program so that it only prints the names of the animals that have an even number of letters?"
      ],
      "metadata": {
        "id": "FLkiDaEN9HCO"
      }
    },
    {
      "cell_type": "code",
      "source": [
        "# Q9\n",
        "animals = [\"cat\", \"dog\", \"fish\", \"pigeon\", \"parrot\", \"pony\", \"hamster\", \"lizard\"]\n",
        "\n",
        "for pet in animals:\n",
        "    if len(pet) % 2 == 0:\n",
        "        print(pet)"
      ],
      "metadata": {
        "id": "QXYIMgn39Ty1"
      },
      "execution_count": null,
      "outputs": []
    },
    {
      "cell_type": "markdown",
      "source": [
        "Q10: Write a program which creates a list and lets the user enter ten integers, which get appended to the list. Then it should iterate across the list and print out each number *if *it is an even number. (Notice that you don't need to use the position numbers for this)"
      ],
      "metadata": {
        "id": "lpwv_aAU9kxB"
      }
    },
    {
      "cell_type": "code",
      "source": [
        "# Q10\n",
        "\n",
        "# create an empty list\n",
        "lst = []\n",
        "\n",
        "# take input from user 10 times\n",
        "for i in range(10):\n",
        "    num = int(input(\"Enter an integer: \"))\n",
        "    lst.append(num)\n",
        "\n",
        "# iterate over the list and print even numbers\n",
        "for num in lst:\n",
        "    if num % 2 == 0:\n",
        "        print(num)"
      ],
      "metadata": {
        "id": "4gvF9EEX90y6"
      },
      "execution_count": null,
      "outputs": []
    }
  ]
}